{
  "nbformat": 4,
  "nbformat_minor": 0,
  "metadata": {
    "colab": {
      "provenance": [],
      "authorship_tag": "ABX9TyNxLE2IxEgQmR2Btwq9BzW1",
      "include_colab_link": true
    },
    "kernelspec": {
      "name": "python3",
      "display_name": "Python 3"
    },
    "language_info": {
      "name": "python"
    }
  },
  "cells": [
    {
      "cell_type": "markdown",
      "metadata": {
        "id": "view-in-github",
        "colab_type": "text"
      },
      "source": [
        "<a href=\"https://colab.research.google.com/github/kknd4eva/azure_openai_function_calling/blob/main/azure_openai_function_calling.ipynb\" target=\"_parent\"><img src=\"https://colab.research.google.com/assets/colab-badge.svg\" alt=\"Open In Colab\"/></a>"
      ]
    },
    {
      "cell_type": "code",
      "execution_count": 1,
      "metadata": {
        "colab": {
          "base_uri": "https://localhost:8080/"
        },
        "id": "3nrQZcU2LmnG",
        "outputId": "1e09ba59-9d7e-4152-94d2-b37a4f038aff"
      },
      "outputs": [
        {
          "output_type": "stream",
          "name": "stdout",
          "text": [
            "Collecting openai\n",
            "  Downloading openai-0.27.8-py3-none-any.whl (73 kB)\n",
            "\u001b[2K     \u001b[90m━━━━━━━━━━━━━━━━━━━━━━━━━━━━━━━━━━━━━━━━\u001b[0m \u001b[32m73.6/73.6 kB\u001b[0m \u001b[31m1.1 MB/s\u001b[0m eta \u001b[36m0:00:00\u001b[0m\n",
            "\u001b[?25hRequirement already satisfied: requests>=2.20 in /usr/local/lib/python3.10/dist-packages (from openai) (2.27.1)\n",
            "Requirement already satisfied: tqdm in /usr/local/lib/python3.10/dist-packages (from openai) (4.65.0)\n",
            "Requirement already satisfied: aiohttp in /usr/local/lib/python3.10/dist-packages (from openai) (3.8.4)\n",
            "Requirement already satisfied: urllib3<1.27,>=1.21.1 in /usr/local/lib/python3.10/dist-packages (from requests>=2.20->openai) (1.26.16)\n",
            "Requirement already satisfied: certifi>=2017.4.17 in /usr/local/lib/python3.10/dist-packages (from requests>=2.20->openai) (2023.5.7)\n",
            "Requirement already satisfied: charset-normalizer~=2.0.0 in /usr/local/lib/python3.10/dist-packages (from requests>=2.20->openai) (2.0.12)\n",
            "Requirement already satisfied: idna<4,>=2.5 in /usr/local/lib/python3.10/dist-packages (from requests>=2.20->openai) (3.4)\n",
            "Requirement already satisfied: attrs>=17.3.0 in /usr/local/lib/python3.10/dist-packages (from aiohttp->openai) (23.1.0)\n",
            "Requirement already satisfied: multidict<7.0,>=4.5 in /usr/local/lib/python3.10/dist-packages (from aiohttp->openai) (6.0.4)\n",
            "Requirement already satisfied: async-timeout<5.0,>=4.0.0a3 in /usr/local/lib/python3.10/dist-packages (from aiohttp->openai) (4.0.2)\n",
            "Requirement already satisfied: yarl<2.0,>=1.0 in /usr/local/lib/python3.10/dist-packages (from aiohttp->openai) (1.9.2)\n",
            "Requirement already satisfied: frozenlist>=1.1.1 in /usr/local/lib/python3.10/dist-packages (from aiohttp->openai) (1.4.0)\n",
            "Requirement already satisfied: aiosignal>=1.1.2 in /usr/local/lib/python3.10/dist-packages (from aiohttp->openai) (1.3.1)\n",
            "Installing collected packages: openai\n",
            "Successfully installed openai-0.27.8\n"
          ]
        }
      ],
      "source": [
        "# grab the latest openai libraries\n",
        "%pip install --upgrade openai"
      ]
    },
    {
      "cell_type": "code",
      "source": [
        "import openai\n",
        "\n",
        "## Set up our Azure OpenAI service\n",
        "deployment_id = \"shiny-new-model\"\n",
        "openai.api_type = \"azure\"\n",
        "openai.api_key = \"\"\n",
        "openai.api_base = \"\"\n",
        "openai.api_version = \"2023-07-01-preview\""
      ],
      "metadata": {
        "id": "LyXiFPoSNc4r"
      },
      "execution_count": 19,
      "outputs": []
    },
    {
      "cell_type": "code",
      "source": [
        "# Lets create our function to use with OpenAI. In our use case, we want the model to be able to accurately calculate\n",
        "# how many open ai bucks a customer is entitled to based on their loyalty tier.\n",
        "\n",
        "def calculate_openai_bucks(tier, points) -> str:\n",
        "    # defining the conversion rates for each tier\n",
        "    tiers = {\n",
        "        \"bronze\": 1,\n",
        "        \"silver\": 2,\n",
        "        \"gold\": 5\n",
        "    }\n",
        "    if tier.lower() not in tiers:\n",
        "        return \"Invalid tier. Please provide a valid tier: bronze, silver, or gold.\"\n",
        "    if int(points) < 0:\n",
        "        return \"Invalid points. Please provide a positive number of points.\"\n",
        "\n",
        "    openai_bucks = tiers[tier.lower()] * int(points)\n",
        "    return \"${:.2f}\".format(openai_bucks)\n",
        "\n",
        "# Let's also create a second function just to show that the model will choose the right function from those available\n",
        "# based on the context provided in the conversation\n",
        "\n",
        "def reverse_string(s):\n",
        "    return s[::-1]\n",
        "\n"
      ],
      "metadata": {
        "id": "1ocCl2pEQFRv"
      },
      "execution_count": 31,
      "outputs": []
    },
    {
      "cell_type": "code",
      "source": [
        "# lets test our functions first\n",
        "display(calculate_openai_bucks(\"silver\",100))\n",
        "display(reverse_string(\"Show me the moeny!\"))"
      ],
      "metadata": {
        "colab": {
          "base_uri": "https://localhost:8080/",
          "height": 53
        },
        "id": "Z_VmPxdHRRx0",
        "outputId": "da69ea48-a01b-4b3b-931a-627c1c3d6f3b"
      },
      "execution_count": 22,
      "outputs": [
        {
          "output_type": "display_data",
          "data": {
            "text/plain": [
              "'$200.00'"
            ],
            "application/vnd.google.colaboratory.intrinsic+json": {
              "type": "string"
            }
          },
          "metadata": {}
        },
        {
          "output_type": "display_data",
          "data": {
            "text/plain": [
              "'!yneom eht em wohS'"
            ],
            "application/vnd.google.colaboratory.intrinsic+json": {
              "type": "string"
            }
          },
          "metadata": {}
        }
      ]
    },
    {
      "cell_type": "code",
      "source": [
        "# We need to create a description of our functions, a bit like a blueprint so that the model understands how to use them\n",
        "functions=[\n",
        "  {\n",
        "    \"name\": \"calculate_openai_bucks\",\n",
        "    \"description\": \"Calculate the number of openai bucks a customer is entitled to based on their loyalty tier and the number of points they have\",\n",
        "    \"parameters\": {\n",
        "      \"type\": \"object\",\n",
        "      \"properties\": {\n",
        "        \"tier\": {\n",
        "          \"type\": \"string\",\n",
        "          \"enum\": [\n",
        "            \"bronze\",\n",
        "            \"silver\",\n",
        "            \"gold\"\n",
        "          ],\n",
        "          \"description\": \"The loyalty tier of the customer\"\n",
        "        },\n",
        "        \"points\": {\n",
        "          \"type\": \"string\",\n",
        "          \"description\": \"The number of points the customer has\"\n",
        "        }\n",
        "      },\n",
        "      \"required\": [\n",
        "        \"tier\",\n",
        "        \"points\"\n",
        "      ]\n",
        "    }\n",
        "  },\n",
        "  {\n",
        "    \"name\": \"reverse_string\",\n",
        "    \"description\": \"Takes a string and reverses all the characters, then returns the new reversed string\",\n",
        "    \"parameters\": {\n",
        "      \"type\": \"object\",\n",
        "      \"properties\": {\n",
        "        \"s\": {\n",
        "          \"type\": \"string\",\n",
        "          \"description\": \"The string to be reversed\"\n",
        "        }\n",
        "      },\n",
        "      \"required\": [\n",
        "        \"s\"\n",
        "      ]\n",
        "    }\n",
        "  }\n",
        "]\n",
        "\n",
        "available_functions = {\n",
        "    \"calculate_openai_bucks\": calculate_openai_bucks,\n",
        "    \"reverse_string\": reverse_string\n",
        "}\n"
      ],
      "metadata": {
        "id": "3K0IZ1pmTpXc"
      },
      "execution_count": 33,
      "outputs": []
    },
    {
      "cell_type": "code",
      "source": [
        "# Sourced from https://github.com/Azure-Samples/openai/blob/main/Basic_Samples/Functions/working_with_functions.ipynb\n",
        "# a helper method just to make sure that the functions are being used correctly\n",
        "import inspect\n",
        "\n",
        "# helper method used to check if the correct arguments are provided to a function\n",
        "def check_args(function, args):\n",
        "    sig = inspect.signature(function)\n",
        "    params = sig.parameters\n",
        "\n",
        "    # Check if there are extra arguments\n",
        "    for name in args:\n",
        "        if name not in params:\n",
        "            return False\n",
        "    # Check if the required arguments are provided\n",
        "    for name, param in params.items():\n",
        "        if param.default is param.empty and name not in args:\n",
        "            return False\n",
        "\n",
        "    return True"
      ],
      "metadata": {
        "id": "-ZBkKdz7Vasm"
      },
      "execution_count": 24,
      "outputs": []
    },
    {
      "cell_type": "code",
      "source": [
        "from openai.api_resources import model\n",
        "import json # needed for this function\n",
        "\n",
        "def process_chat_with_function_calls(messages, functions, available_functions, deployment_id):\n",
        "  try:\n",
        "    response = openai.ChatCompletion.create(\n",
        "        deployment_id=deployment_id,\n",
        "        messages=messages,\n",
        "        functions=functions,\n",
        "        function_call=\"auto\"\n",
        "    )\n",
        "    response_message = response[\"choices\"][0][\"message\"]\n",
        "    function_call = response_message.get(\"function_call\")\n",
        "\n",
        "    if function_call:\n",
        "        print(f\"Recommended Function call:\\n{function_call}\\n\")\n",
        "        function_name = function_call[\"name\"]\n",
        "\n",
        "        if function_name not in available_functions:\n",
        "            return f\"Function {function_name} does not exist\"\n",
        "\n",
        "        function_to_call = available_functions[function_name]\n",
        "        function_args = json.loads(function_call[\"arguments\"])\n",
        "\n",
        "        if not check_args(function_to_call, function_args):\n",
        "            return f\"Invalid number of arguments for function: {function_name}\"\n",
        "\n",
        "        function_response = function_to_call(**function_args)\n",
        "\n",
        "        print(f\"Output of function call:\\n{function_response}\\n\")\n",
        "\n",
        "        messages.extend([\n",
        "            {\"role\": response_message[\"role\"], \"name\": function_name, \"content\":  str(function_args)}, # we convert to string because we have a dictionary of args, not just one.\n",
        "            {\"role\": \"function\", \"name\": function_name, \"content\": function_response},\n",
        "        ])\n",
        "\n",
        "        print(\"Messages in second request:\")\n",
        "        for message in messages:\n",
        "            print(message)\n",
        "        print()\n",
        "\n",
        "        second_response = openai.ChatCompletion.create(\n",
        "            messages=messages,\n",
        "            deployment_id=deployment_id\n",
        "        )\n",
        "\n",
        "        return second_response\n",
        "  except Exception as e:\n",
        "    print(e)\n"
      ],
      "metadata": {
        "id": "iTyHl-b8Vq4I"
      },
      "execution_count": 39,
      "outputs": []
    },
    {
      "cell_type": "code",
      "source": [
        "messages = [{\"role\": \"user\", \"content\": \"I'm a silver member and I have 1200 points. Also I got that bonus 800 points in the mail last week. How many bucks do I have to spend please? \"}]\n",
        "assistant_response = process_chat_with_function_calls(messages, functions, available_functions, deployment_id)\n",
        "#print(assistant_response['choices'][0]['message'])\n",
        "print(assistant_response)"
      ],
      "metadata": {
        "colab": {
          "base_uri": "https://localhost:8080/"
        },
        "id": "WiFEJGBlelIx",
        "outputId": "ea841d83-75c8-4997-b5f2-8d4f21a008f2"
      },
      "execution_count": 41,
      "outputs": [
        {
          "output_type": "stream",
          "name": "stdout",
          "text": [
            "Recommended Function call:\n",
            "{\n",
            "  \"name\": \"calculate_openai_bucks\",\n",
            "  \"arguments\": \"{\\n  \\\"tier\\\": \\\"silver\\\",\\n  \\\"points\\\": \\\"2000\\\"\\n}\"\n",
            "}\n",
            "\n",
            "Output of function call:\n",
            "$4000.00\n",
            "\n",
            "Messages in second request:\n",
            "{'role': 'user', 'content': \"I'm a silver member and I have 1200 points. Also I got that bonus 800 points in the mail last week. How many bucks do I have to spend please? \"}\n",
            "{'role': 'assistant', 'name': 'calculate_openai_bucks', 'content': \"{'tier': 'silver', 'points': '2000'}\"}\n",
            "{'role': 'function', 'name': 'calculate_openai_bucks', 'content': '$4000.00'}\n",
            "\n",
            "{\n",
            "  \"id\": \"chatcmpl-7fMfMEbPVQtP6uqrOLMHTUh3eQbZX\",\n",
            "  \"object\": \"chat.completion\",\n",
            "  \"created\": 1690092932,\n",
            "  \"model\": \"gpt-35-turbo-16k\",\n",
            "  \"prompt_annotations\": [\n",
            "    {\n",
            "      \"prompt_index\": 0,\n",
            "      \"content_filter_results\": {\n",
            "        \"hate\": {\n",
            "          \"filtered\": false,\n",
            "          \"severity\": \"safe\"\n",
            "        },\n",
            "        \"self_harm\": {\n",
            "          \"filtered\": false,\n",
            "          \"severity\": \"safe\"\n",
            "        },\n",
            "        \"sexual\": {\n",
            "          \"filtered\": false,\n",
            "          \"severity\": \"safe\"\n",
            "        },\n",
            "        \"violence\": {\n",
            "          \"filtered\": false,\n",
            "          \"severity\": \"safe\"\n",
            "        }\n",
            "      }\n",
            "    }\n",
            "  ],\n",
            "  \"choices\": [\n",
            "    {\n",
            "      \"index\": 0,\n",
            "      \"finish_reason\": \"stop\",\n",
            "      \"message\": {\n",
            "        \"role\": \"assistant\",\n",
            "        \"content\": \"As a silver member, you have accumulated 1200 points and received a bonus of 800 points, totaling 2000 points. Assuming each point is equivalent to $2, you would have $4000 in OpenAI Bucks to spend.\"\n",
            "      },\n",
            "      \"content_filter_results\": {\n",
            "        \"hate\": {\n",
            "          \"filtered\": false,\n",
            "          \"severity\": \"safe\"\n",
            "        },\n",
            "        \"self_harm\": {\n",
            "          \"filtered\": false,\n",
            "          \"severity\": \"safe\"\n",
            "        },\n",
            "        \"sexual\": {\n",
            "          \"filtered\": false,\n",
            "          \"severity\": \"safe\"\n",
            "        },\n",
            "        \"violence\": {\n",
            "          \"filtered\": false,\n",
            "          \"severity\": \"safe\"\n",
            "        }\n",
            "      }\n",
            "    }\n",
            "  ],\n",
            "  \"usage\": {\n",
            "    \"completion_tokens\": 49,\n",
            "    \"prompt_tokens\": 81,\n",
            "    \"total_tokens\": 130\n",
            "  }\n",
            "}\n"
          ]
        }
      ]
    }
  ]
}